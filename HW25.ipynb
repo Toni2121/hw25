{
 "cells": [
  {
   "cell_type": "code",
   "execution_count": 2,
   "id": "fa2abe52-9d86-4d52-98de-a6539341ee67",
   "metadata": {},
   "outputs": [],
   "source": [
    "import numpy as np\n",
    "import pandas as pd"
   ]
  },
  {
   "cell_type": "code",
   "execution_count": 4,
   "id": "331ce31f-ede2-4b6e-8b49-231df685e3c9",
   "metadata": {},
   "outputs": [
    {
     "name": "stdout",
     "output_type": "stream",
     "text": [
      "Game list: ['Planet Coaster 2', 'Mario & Luigi: Brothership', 'Slitterhead', 'The Rise of the Golden Idol', 'Dragon Quest 3 HD-2D Remake', 'Microsoft Flight Simulator 2024', 'Stalker 2: Heart of Chornobyl', 'Fantasian Neo Dimension', 'Marvel Rivals', 'Indiana Jones and the Great Circle', 'Blood Line: A Rebel Moon Game', 'The Legend of Zelda: Echoes of Wisdom']\n",
      "Game at index 3: The Rise of the Golden Idol\n",
      "Game price dictionary: {'Planet Coaster 2': 224.96, 'Mario & Luigi: Brothership': 187.46, 'Slitterhead': 149.96, 'The Rise of the Golden Idol': 131.21, 'Dragon Quest 3 HD-2D Remake': 187.46, 'Microsoft Flight Simulator 2024': 262.46, 'Stalker 2: Heart of Chornobyl': 224.96, 'Fantasian Neo Dimension': 168.71, 'Marvel Rivals': 149.96, 'Indiana Jones and the Great Circle': 206.21, 'Blood Line: A Rebel Moon Game': 0.0, 'The Legend of Zelda: Echoes of Wisdom': 262.46}\n",
      "Price of Marvel Rivals: 149.96\n",
      "All game keys: dict_keys(['Planet Coaster 2', 'Mario & Luigi: Brothership', 'Slitterhead', 'The Rise of the Golden Idol', 'Dragon Quest 3 HD-2D Remake', 'Microsoft Flight Simulator 2024', 'Stalker 2: Heart of Chornobyl', 'Fantasian Neo Dimension', 'Marvel Rivals', 'Indiana Jones and the Great Circle', 'Blood Line: A Rebel Moon Game', 'The Legend of Zelda: Echoes of Wisdom'])\n",
      "Data type of series: <class 'pandas.core.series.Series'>\n",
      "Series after resetting index:\n",
      " 0    224.96\n",
      "1    187.46\n",
      "2    224.96\n",
      "dtype: float64\n"
     ]
    }
   ],
   "source": [
    "import pandas as pd\n",
    "\n",
    "games = [\n",
    "    \"Planet Coaster 2\", \"Mario & Luigi: Brothership\", \"Slitterhead\", \n",
    "    \"The Rise of the Golden Idol\", \"Dragon Quest 3 HD-2D Remake\", \n",
    "    \"Microsoft Flight Simulator 2024\", \"Stalker 2: Heart of Chornobyl\", \n",
    "    \"Fantasian Neo Dimension\", \"Marvel Rivals\", \n",
    "    \"Indiana Jones and the Great Circle\", \"Blood Line: A Rebel Moon Game\", \n",
    "    \"The Legend of Zelda: Echoes of Wisdom\"\n",
    "]\n",
    "\n",
    "# a.\n",
    "print(\"Game list:\", games)\n",
    "\n",
    "# b.\n",
    "print(\"Game at index 3:\", games[3])\n",
    "\n",
    "# c.\n",
    "prices = [\n",
    "    224.96, 187.46, 149.96, 131.21, 187.46, 262.46, 224.96, \n",
    "    168.71, 149.96, 206.21, 0.0, 262.46\n",
    "]\n",
    "game_price_dict = dict(zip(games, prices))\n",
    "\n",
    "# d.\n",
    "print(\"Game price dictionary:\", game_price_dict)\n",
    "\n",
    "# e.\n",
    "print(\"Price of Marvel Rivals:\", game_price_dict[\"Marvel Rivals\"])\n",
    "\n",
    "# f.\n",
    "print(\"All game keys:\", game_price_dict.keys())\n",
    "\n",
    "# g.\n",
    "print(\"Data type of series:\", type(pd.Series(game_price_dict)))\n",
    "\n",
    "# h.\n",
    "selected_games = {\n",
    "    \"Planet Coaster 2\": 224.96, \n",
    "    \"Mario & Luigi: Brothership\": 187.46, \n",
    "    \"Stalker 2: Heart of Chornobyl\": 224.96\n",
    "}\n",
    "selected_series = pd.Series(selected_games)\n",
    "\n",
    "# i.\n",
    "selected_series_reset = selected_series.reset_index(drop=True)\n",
    "print(\"Series after resetting index:\\n\", selected_series_reset)\n"
   ]
  },
  {
   "cell_type": "code",
   "execution_count": null,
   "id": "4540fc98-d0da-4231-8459-f13fef29b876",
   "metadata": {},
   "outputs": [],
   "source": [
    "+: משמש לחיבור ישיר של ערכים.\n",
    "add: פונקציה בפנדאס לחיבור בין סדרות או דאטא פריימים, עם אפשרות לטיפול בערכי NaN (כמו fill_value)."
   ]
  },
  {
   "cell_type": "code",
   "execution_count": 6,
   "id": "f3fb4b9f-ef60-4c6a-b06d-c34921718e5e",
   "metadata": {},
   "outputs": [
    {
     "name": "stdout",
     "output_type": "stream",
     "text": [
      "New prices after discounts:\n",
      " Mario & Luigi: Brothership               187.46\n",
      "Marvel Rivals                             69.96\n",
      "Planet Coaster 2                         174.96\n",
      "Slitterhead                              149.96\n",
      "The Legend of Zelda: Echoes of Wisdom    247.46\n",
      "dtype: float64\n"
     ]
    }
   ],
   "source": [
    "game_prices = {\n",
    "    \"Planet Coaster 2\": 224.96,\n",
    "    \"Mario & Luigi: Brothership\": 187.46,\n",
    "    \"Slitterhead\": 149.96,\n",
    "    \"Marvel Rivals\": 149.96,\n",
    "    \"The Legend of Zelda: Echoes of Wisdom\": 262.46\n",
    "}\n",
    "\n",
    "discounts = {\n",
    "    \"Planet Coaster 2\": 50,\n",
    "    \"Marvel Rivals\": 80,\n",
    "    \"The Legend of Zelda: Echoes of Wisdom\": 15\n",
    "}\n",
    "game_prices_series = pd.Series(game_prices)\n",
    "discount_series = pd.Series(discounts)\n",
    "new_prices_series = game_prices_series.add(-discount_series, fill_value=0)\n",
    "print(\"New prices after discounts:\\n\", new_prices_series)\n"
   ]
  },
  {
   "cell_type": "code",
   "execution_count": null,
   "id": "40a63d95-b088-4327-9925-372041a71804",
   "metadata": {},
   "outputs": [],
   "source": []
  }
 ],
 "metadata": {
  "kernelspec": {
   "display_name": "Python 3 (ipykernel)",
   "language": "python",
   "name": "python3"
  },
  "language_info": {
   "codemirror_mode": {
    "name": "ipython",
    "version": 3
   },
   "file_extension": ".py",
   "mimetype": "text/x-python",
   "name": "python",
   "nbconvert_exporter": "python",
   "pygments_lexer": "ipython3",
   "version": "3.12.7"
  }
 },
 "nbformat": 4,
 "nbformat_minor": 5
}
